{
  "nbformat": 4,
  "nbformat_minor": 0,
  "metadata": {
    "colab": {
      "name": "Taller 1 - 160003524.ipynb",
      "provenance": [],
      "collapsed_sections": []
    },
    "kernelspec": {
      "name": "python3",
      "display_name": "Python 3"
    }
  },
  "cells": [
    {
      "cell_type": "markdown",
      "metadata": {
        "id": "Rhnd7gir-jz-",
        "colab_type": "text"
      },
      "source": [
        "# **Taller 1 - Simulación Computacional 2020-I**\n",
        "\n",
        "Fecha de entrega: Antes 7 de Septiembre de 2020 - Nueva 10 de Septiembre de 2020"
      ]
    },
    {
      "cell_type": "markdown",
      "metadata": {
        "id": "eae9HxiDQG8H",
        "colab_type": "text"
      },
      "source": [
        "## 1.\n",
        "Los siguientes datos muestran los tiempos de llegada y los tiempos de servicio que requerirá cada cliente, para los primeros 13 clientes en un sistema de servidor único. A su llegada, un cliente ingresa al servicio si el servidor está libre o se une a la línea de espera. Cuando el servidor completa el trabajo en un cliente, el siguiente en la fila (es decir, el que ha estado esperando por más tiempo) entra en servicio.\n",
        "\n",
        "\n",
        "| Tiempos de llegada  | 12 | 31 | 63 | 95 | 99 | 154 | 198 | 221 | 304 | 346 | 411 | 455 | 537|\n",
        "----------------------| |  |  |  |  |   |   |   |   |   |   |   |  |\n",
        "| Tiempos de servicio | 40 | 32 | 55 | 48 | 18 |  50 |  47 |  18 |  28 |  54 |  40 |  72 |  12|\n",
        "\n",
        "a) Determine los tiempos de salida de estos 13 clientes.<br>\n",
        "b) Repetir a) cuando hay dos servidores y un cliente puede ser atendido por cualquiera.<br>\n",
        "c) Repetir a) bajo el nuevo supuesto que cuando el servidor termina un servicio, el siguiente cliente en entrar al servidor es aquel quien ha estado esperando el menor tiempo."
      ]
    },
    {
      "cell_type": "code",
      "metadata": {
        "id": "PQvoAkyMfeJt",
        "colab_type": "code",
        "colab": {
          "base_uri": "https://localhost:8080/",
          "height": 255
        },
        "outputId": "b15d0d0c-ee24-4730-b026-9042c80f2072"
      },
      "source": [
        "import numpy as np\n",
        "\n",
        "def ejercicioN_1():\n",
        "  tiemposDeLlegada=[12,31,63,95,99,145,198,221,304,346,411,455,537]\n",
        "  tiemposDeServicio=[40,32,55,48,18,50,47,18,28,54,40,72,12]\n",
        "  tiemposDeSalida=list(range(0,len(tiemposDeLlegada),1))\n",
        "  aux=[0]\n",
        "  for i in range(0, len(tiemposDeLlegada)):\n",
        "      if tiemposDeLlegada[i]<aux[0]:\n",
        "          tiemposDeSalida[i]=aux[0]+tiemposDeServicio[i]\n",
        "          aux[0]=tiemposDeSalida[i]\n",
        "      else:\n",
        "            tiemposDeSalida[i]=tiemposDeLlegada[i]+tiemposDeServicio[i]\n",
        "            aux[0]=tiemposDeSalida[i]\n",
        "  print(\"# de Cliente\\t Tiempo de llegada \\t Tiempo de servicio\\t Tiempo de salida\")        \n",
        "  for t in range(0, len(clientes)):\n",
        "     print(\"%d\\t\\t\\t %d\\t\\t\\t %d\\t\\t\\t %d\" %(clientes[t], tiemposDeLlegada[t], \n",
        "                                             tiemposDeServicio[t], \n",
        "                                             tiemposDeSalida[t]), end='\\n')\n",
        "clientes=list(range(1,14,1))\n",
        "ejercicioN_1()"
      ],
      "execution_count": 93,
      "outputs": [
        {
          "output_type": "stream",
          "text": [
            "# de Cliente\t Tiempo de llegada \t Tiempo de servicio\t Tiempo de salida\n",
            "1\t\t\t 12\t\t\t 40\t\t\t 52\n",
            "2\t\t\t 31\t\t\t 32\t\t\t 84\n",
            "3\t\t\t 63\t\t\t 55\t\t\t 139\n",
            "4\t\t\t 95\t\t\t 48\t\t\t 187\n",
            "5\t\t\t 99\t\t\t 18\t\t\t 205\n",
            "6\t\t\t 145\t\t\t 50\t\t\t 255\n",
            "7\t\t\t 198\t\t\t 47\t\t\t 302\n",
            "8\t\t\t 221\t\t\t 18\t\t\t 320\n",
            "9\t\t\t 304\t\t\t 28\t\t\t 348\n",
            "10\t\t\t 346\t\t\t 54\t\t\t 402\n",
            "11\t\t\t 411\t\t\t 40\t\t\t 451\n",
            "12\t\t\t 455\t\t\t 72\t\t\t 527\n",
            "13\t\t\t 537\t\t\t 12\t\t\t 549\n"
          ],
          "name": "stdout"
        }
      ]
    },
    {
      "cell_type": "markdown",
      "metadata": {
        "id": "cpUpE8lokBBR",
        "colab_type": "text"
      },
      "source": [
        "## 2.\n",
        "Implementar el método de cuadrados medios (Mid-Square) para cualquier numero de $2n$ cifras."
      ]
    },
    {
      "cell_type": "code",
      "metadata": {
        "id": "u59S6W7QpbRJ",
        "colab_type": "code",
        "colab": {
          "base_uri": "https://localhost:8080/",
          "height": 1000
        },
        "outputId": "aee610f2-6e43-44ad-eb47-dc2a2f53c9aa"
      },
      "source": [
        "def ejercicioN_2 ():\n",
        "    n=\"128\"\n",
        "    i=0\n",
        "    if len(n) <= 4:\n",
        "      n = n.zfill(4)\n",
        "      print('El valor de n =', n)\n",
        "      for x in range(20): \n",
        "            x0i2 = str(int(n)**2)\n",
        "            x0=n;\n",
        "            print('X indice',i,'equivale =',x0)\n",
        "            x0i2 = x0i2.zfill(8)\n",
        "            xi= str(x0i2)\n",
        "            print('X indice', i, '**2 =', xi)\n",
        "            xii = xi[2:6]\n",
        "            i=i+1\n",
        "            print('X indice', i, 'equivale =', xii)\n",
        "            ui=float(int(xii)/10000)\n",
        "            print('U indice', i,'equivale =', ui)\n",
        "            n=xii;\n",
        "ejercicioN_2()"
      ],
      "execution_count": 19,
      "outputs": [
        {
          "output_type": "stream",
          "text": [
            "El valor de n = 0128\n",
            "X indice 0 equivale = 0128\n",
            "X indice 0 **2 = 00016384\n",
            "X indice 1 equivale = 0163\n",
            "U indice 1 equivale = 0.0163\n",
            "X indice 1 equivale = 0163\n",
            "X indice 1 **2 = 00026569\n",
            "X indice 2 equivale = 0265\n",
            "U indice 2 equivale = 0.0265\n",
            "X indice 2 equivale = 0265\n",
            "X indice 2 **2 = 00070225\n",
            "X indice 3 equivale = 0702\n",
            "U indice 3 equivale = 0.0702\n",
            "X indice 3 equivale = 0702\n",
            "X indice 3 **2 = 00492804\n",
            "X indice 4 equivale = 4928\n",
            "U indice 4 equivale = 0.4928\n",
            "X indice 4 equivale = 4928\n",
            "X indice 4 **2 = 24285184\n",
            "X indice 5 equivale = 2851\n",
            "U indice 5 equivale = 0.2851\n",
            "X indice 5 equivale = 2851\n",
            "X indice 5 **2 = 08128201\n",
            "X indice 6 equivale = 1282\n",
            "U indice 6 equivale = 0.1282\n",
            "X indice 6 equivale = 1282\n",
            "X indice 6 **2 = 01643524\n",
            "X indice 7 equivale = 6435\n",
            "U indice 7 equivale = 0.6435\n",
            "X indice 7 equivale = 6435\n",
            "X indice 7 **2 = 41409225\n",
            "X indice 8 equivale = 4092\n",
            "U indice 8 equivale = 0.4092\n",
            "X indice 8 equivale = 4092\n",
            "X indice 8 **2 = 16744464\n",
            "X indice 9 equivale = 7444\n",
            "U indice 9 equivale = 0.7444\n",
            "X indice 9 equivale = 7444\n",
            "X indice 9 **2 = 55413136\n",
            "X indice 10 equivale = 4131\n",
            "U indice 10 equivale = 0.4131\n",
            "X indice 10 equivale = 4131\n",
            "X indice 10 **2 = 17065161\n",
            "X indice 11 equivale = 0651\n",
            "U indice 11 equivale = 0.0651\n",
            "X indice 11 equivale = 0651\n",
            "X indice 11 **2 = 00423801\n",
            "X indice 12 equivale = 4238\n",
            "U indice 12 equivale = 0.4238\n",
            "X indice 12 equivale = 4238\n",
            "X indice 12 **2 = 17960644\n",
            "X indice 13 equivale = 9606\n",
            "U indice 13 equivale = 0.9606\n",
            "X indice 13 equivale = 9606\n",
            "X indice 13 **2 = 92275236\n",
            "X indice 14 equivale = 2752\n",
            "U indice 14 equivale = 0.2752\n",
            "X indice 14 equivale = 2752\n",
            "X indice 14 **2 = 07573504\n",
            "X indice 15 equivale = 5735\n",
            "U indice 15 equivale = 0.5735\n",
            "X indice 15 equivale = 5735\n",
            "X indice 15 **2 = 32890225\n",
            "X indice 16 equivale = 8902\n",
            "U indice 16 equivale = 0.8902\n",
            "X indice 16 equivale = 8902\n",
            "X indice 16 **2 = 79245604\n",
            "X indice 17 equivale = 2456\n",
            "U indice 17 equivale = 0.2456\n",
            "X indice 17 equivale = 2456\n",
            "X indice 17 **2 = 06031936\n",
            "X indice 18 equivale = 0319\n",
            "U indice 18 equivale = 0.0319\n",
            "X indice 18 equivale = 0319\n",
            "X indice 18 **2 = 00101761\n",
            "X indice 19 equivale = 1017\n",
            "U indice 19 equivale = 0.1017\n",
            "X indice 19 equivale = 1017\n",
            "X indice 19 **2 = 01034289\n",
            "X indice 20 equivale = 0342\n",
            "U indice 20 equivale = 0.0342\n"
          ],
          "name": "stdout"
        }
      ]
    },
    {
      "cell_type": "markdown",
      "metadata": {
        "id": "aRS-Mj1pcjCF",
        "colab_type": "text"
      },
      "source": [
        "## 3.\n",
        "Si $x_0=5$ y\n",
        "$$ x_n = 3x_{n-1} \\mod 150 $$\n",
        "\n",
        "encuentre $x_1,...,x_{10}$"
      ]
    },
    {
      "cell_type": "code",
      "metadata": {
        "id": "eMRkbSDhfdcZ",
        "colab_type": "code",
        "colab": {
          "base_uri": "https://localhost:8080/",
          "height": 221
        },
        "outputId": "42680daa-f36b-400d-efce-5b997e93134f"
      },
      "source": [
        "def ejercicioN_3():\n",
        "  contador=0\n",
        "  vXn=[]\n",
        "  x0=5\n",
        "  print('Valores de xi')\n",
        "  for x in range (11): \n",
        "      vXn.append(x0)\n",
        "      xn=(((3*(x0))) % 150)\n",
        "      x0=xn\n",
        "      print('X', x, '=', vXn[x])\n",
        "ejercicioN_3()"
      ],
      "execution_count": null,
      "outputs": [
        {
          "output_type": "stream",
          "text": [
            "Valores de xi\n",
            "X 0 = 5\n",
            "X 1 = 15\n",
            "X 2 = 45\n",
            "X 3 = 135\n",
            "X 4 = 105\n",
            "X 5 = 15\n",
            "X 6 = 45\n",
            "X 7 = 135\n",
            "X 8 = 105\n",
            "X 9 = 15\n",
            "X 10 = 45\n"
          ],
          "name": "stdout"
        }
      ]
    },
    {
      "cell_type": "markdown",
      "metadata": {
        "id": "ycKN0yXRd0wD",
        "colab_type": "text"
      },
      "source": [
        "## 4.\n",
        "Si $ x_0=3 $ y\n",
        "$$ x_n = (5x_{n-1}+7) \\mod 200 $$\n",
        "\n",
        "encuentre $x_1,...,x_{10}$"
      ]
    },
    {
      "cell_type": "code",
      "metadata": {
        "id": "IQSVgbpifc9T",
        "colab_type": "code",
        "colab": {
          "base_uri": "https://localhost:8080/",
          "height": 221
        },
        "outputId": "061b3401-849e-46c6-9a35-660106e0d6dc"
      },
      "source": [
        "def ejercicioN_4():\n",
        "  contador=0\n",
        "  vXn=[]\n",
        "  x0=3\n",
        "  print('Valores de xi')\n",
        "  for x in range (11): \n",
        "      vXn.append(x0)\n",
        "      xn=((((5*(x0))+7)) % 200)\n",
        "      x0=xn\n",
        "      print('X', x, '=', vXn[x])\n",
        "ejercicioN_4()"
      ],
      "execution_count": null,
      "outputs": [
        {
          "output_type": "stream",
          "text": [
            "Valores de xi\n",
            "X 0 = 3\n",
            "X 1 = 22\n",
            "X 2 = 117\n",
            "X 3 = 192\n",
            "X 4 = 167\n",
            "X 5 = 42\n",
            "X 6 = 17\n",
            "X 7 = 92\n",
            "X 8 = 67\n",
            "X 9 = 142\n",
            "X 10 = 117\n"
          ],
          "name": "stdout"
        }
      ]
    },
    {
      "cell_type": "markdown",
      "metadata": {
        "id": "R4qXgEoJG_Uv",
        "colab_type": "text"
      },
      "source": [
        "## 5.\n",
        "Si $x_0=137$ y\n",
        "$$x_n = (15x_{n-1}+3) \\mod 21$$\n",
        "\n",
        "**a)** encuentre $x_1,...,x_{100}$"
      ]
    },
    {
      "cell_type": "code",
      "metadata": {
        "id": "hgXiAOH3bo7f",
        "colab_type": "code",
        "colab": {
          "base_uri": "https://localhost:8080/",
          "height": 1000
        },
        "outputId": "1814cfd8-9c1a-48ec-a8cb-cc5851d456fc"
      },
      "source": [
        "def ejercicioN_5():\n",
        "  contador=0\n",
        "  vXn=[]\n",
        "  x0=137\n",
        "  print('Valores de Xi')\n",
        "  for x in range (101): \n",
        "      vXn.append(x0)\n",
        "      xn=((((15*(x0))+3)) % 21)\n",
        "      x0=xn\n",
        "      print('X', x, '=', vXn[x])\n",
        "ejercicioN_5()"
      ],
      "execution_count": null,
      "outputs": [
        {
          "output_type": "stream",
          "text": [
            "Valores de xi\n",
            "X 0 = 137\n",
            "X 1 = 0\n",
            "X 2 = 3\n",
            "X 3 = 6\n",
            "X 4 = 9\n",
            "X 5 = 12\n",
            "X 6 = 15\n",
            "X 7 = 18\n",
            "X 8 = 0\n",
            "X 9 = 3\n",
            "X 10 = 6\n",
            "X 11 = 9\n",
            "X 12 = 12\n",
            "X 13 = 15\n",
            "X 14 = 18\n",
            "X 15 = 0\n",
            "X 16 = 3\n",
            "X 17 = 6\n",
            "X 18 = 9\n",
            "X 19 = 12\n",
            "X 20 = 15\n",
            "X 21 = 18\n",
            "X 22 = 0\n",
            "X 23 = 3\n",
            "X 24 = 6\n",
            "X 25 = 9\n",
            "X 26 = 12\n",
            "X 27 = 15\n",
            "X 28 = 18\n",
            "X 29 = 0\n",
            "X 30 = 3\n",
            "X 31 = 6\n",
            "X 32 = 9\n",
            "X 33 = 12\n",
            "X 34 = 15\n",
            "X 35 = 18\n",
            "X 36 = 0\n",
            "X 37 = 3\n",
            "X 38 = 6\n",
            "X 39 = 9\n",
            "X 40 = 12\n",
            "X 41 = 15\n",
            "X 42 = 18\n",
            "X 43 = 0\n",
            "X 44 = 3\n",
            "X 45 = 6\n",
            "X 46 = 9\n",
            "X 47 = 12\n",
            "X 48 = 15\n",
            "X 49 = 18\n",
            "X 50 = 0\n",
            "X 51 = 3\n",
            "X 52 = 6\n",
            "X 53 = 9\n",
            "X 54 = 12\n",
            "X 55 = 15\n",
            "X 56 = 18\n",
            "X 57 = 0\n",
            "X 58 = 3\n",
            "X 59 = 6\n",
            "X 60 = 9\n",
            "X 61 = 12\n",
            "X 62 = 15\n",
            "X 63 = 18\n",
            "X 64 = 0\n",
            "X 65 = 3\n",
            "X 66 = 6\n",
            "X 67 = 9\n",
            "X 68 = 12\n",
            "X 69 = 15\n",
            "X 70 = 18\n",
            "X 71 = 0\n",
            "X 72 = 3\n",
            "X 73 = 6\n",
            "X 74 = 9\n",
            "X 75 = 12\n",
            "X 76 = 15\n",
            "X 77 = 18\n",
            "X 78 = 0\n",
            "X 79 = 3\n",
            "X 80 = 6\n",
            "X 81 = 9\n",
            "X 82 = 12\n",
            "X 83 = 15\n",
            "X 84 = 18\n",
            "X 85 = 0\n",
            "X 86 = 3\n",
            "X 87 = 6\n",
            "X 88 = 9\n",
            "X 89 = 12\n",
            "X 90 = 15\n",
            "X 91 = 18\n",
            "X 92 = 0\n",
            "X 93 = 3\n",
            "X 94 = 6\n",
            "X 95 = 9\n",
            "X 96 = 12\n",
            "X 97 = 15\n",
            "X 98 = 18\n",
            "X 99 = 0\n",
            "X 100 = 3\n"
          ],
          "name": "stdout"
        }
      ]
    },
    {
      "cell_type": "markdown",
      "metadata": {
        "id": "cvNyzsN9-gqe",
        "colab_type": "text"
      },
      "source": [
        "**b)** el tamaño del ciclo (si lo tiene)"
      ]
    },
    {
      "cell_type": "code",
      "metadata": {
        "id": "vTeBbd5YHLhe",
        "colab_type": "code",
        "colab": {
          "base_uri": "https://localhost:8080/",
          "height": 34
        },
        "outputId": "ee451ef4-c954-4cac-9bbe-f6957e6db751"
      },
      "source": [
        "def ejercicioN_5():\n",
        "  vXn=[]\n",
        "  x0=137\n",
        "  for x in range (101): \n",
        "      vXn.append(x0)\n",
        "      xn=((((15*(x0))+3)) % 21)\n",
        "      x0=xn\n",
        "  tam=vXn[2:len(vXn)].index(0)\n",
        "  print('El tamaño del ciclo es: :',tam+2)  \n",
        "ejercicioN_5()"
      ],
      "execution_count": 48,
      "outputs": [
        {
          "output_type": "stream",
          "text": [
            "El tamaño del ciclo es: : 8\n"
          ],
          "name": "stdout"
        }
      ]
    },
    {
      "cell_type": "markdown",
      "metadata": {
        "id": "zdWnWWHhsl0f",
        "colab_type": "text"
      },
      "source": [
        "## 6.\n",
        "Si $ x_0=7 $ y\n",
        "$$ x_n = (5x_{n-1}+3) \\mod 33$$\n",
        "\n",
        "**a)** encuentre $u_1,...,u_{100}$"
      ]
    },
    {
      "cell_type": "code",
      "metadata": {
        "id": "UE2d7o_2tCMV",
        "colab_type": "code",
        "colab": {
          "base_uri": "https://localhost:8080/",
          "height": 1000
        },
        "outputId": "723a0736-4574-4383-c88a-09918efe79d0"
      },
      "source": [
        "def ejercicioN_6():\n",
        "  contador=0\n",
        "  vUn=[]\n",
        "  x0=7\n",
        "  print('Valores de Ui')\n",
        "  for x in range (101):\n",
        "    if x ==0:  \n",
        "      xn=(((5*(x0))+3) % 33)\n",
        "      vUn.append(contador)\n",
        "    else: \n",
        "      xn=(((5*(x0))+3) % 33)\n",
        "      x0=xn\n",
        "      vUn.append(xn/33)\n",
        "    print('U', x, '=', vUn[x])\n",
        "ejercicioN_6()"
      ],
      "execution_count": null,
      "outputs": [
        {
          "output_type": "stream",
          "text": [
            "U 0 = 0\n",
            "U 1 = 0.15151515151515152\n",
            "U 2 = 0.8484848484848485\n",
            "U 3 = 0.3333333333333333\n",
            "U 4 = 0.7575757575757576\n",
            "U 5 = 0.8787878787878788\n",
            "U 6 = 0.48484848484848486\n",
            "U 7 = 0.5151515151515151\n",
            "U 8 = 0.6666666666666666\n",
            "U 9 = 0.42424242424242425\n",
            "U 10 = 0.21212121212121213\n",
            "U 11 = 0.15151515151515152\n",
            "U 12 = 0.8484848484848485\n",
            "U 13 = 0.3333333333333333\n",
            "U 14 = 0.7575757575757576\n",
            "U 15 = 0.8787878787878788\n",
            "U 16 = 0.48484848484848486\n",
            "U 17 = 0.5151515151515151\n",
            "U 18 = 0.6666666666666666\n",
            "U 19 = 0.42424242424242425\n",
            "U 20 = 0.21212121212121213\n",
            "U 21 = 0.15151515151515152\n",
            "U 22 = 0.8484848484848485\n",
            "U 23 = 0.3333333333333333\n",
            "U 24 = 0.7575757575757576\n",
            "U 25 = 0.8787878787878788\n",
            "U 26 = 0.48484848484848486\n",
            "U 27 = 0.5151515151515151\n",
            "U 28 = 0.6666666666666666\n",
            "U 29 = 0.42424242424242425\n",
            "U 30 = 0.21212121212121213\n",
            "U 31 = 0.15151515151515152\n",
            "U 32 = 0.8484848484848485\n",
            "U 33 = 0.3333333333333333\n",
            "U 34 = 0.7575757575757576\n",
            "U 35 = 0.8787878787878788\n",
            "U 36 = 0.48484848484848486\n",
            "U 37 = 0.5151515151515151\n",
            "U 38 = 0.6666666666666666\n",
            "U 39 = 0.42424242424242425\n",
            "U 40 = 0.21212121212121213\n",
            "U 41 = 0.15151515151515152\n",
            "U 42 = 0.8484848484848485\n",
            "U 43 = 0.3333333333333333\n",
            "U 44 = 0.7575757575757576\n",
            "U 45 = 0.8787878787878788\n",
            "U 46 = 0.48484848484848486\n",
            "U 47 = 0.5151515151515151\n",
            "U 48 = 0.6666666666666666\n",
            "U 49 = 0.42424242424242425\n",
            "U 50 = 0.21212121212121213\n",
            "U 51 = 0.15151515151515152\n",
            "U 52 = 0.8484848484848485\n",
            "U 53 = 0.3333333333333333\n",
            "U 54 = 0.7575757575757576\n",
            "U 55 = 0.8787878787878788\n",
            "U 56 = 0.48484848484848486\n",
            "U 57 = 0.5151515151515151\n",
            "U 58 = 0.6666666666666666\n",
            "U 59 = 0.42424242424242425\n",
            "U 60 = 0.21212121212121213\n",
            "U 61 = 0.15151515151515152\n",
            "U 62 = 0.8484848484848485\n",
            "U 63 = 0.3333333333333333\n",
            "U 64 = 0.7575757575757576\n",
            "U 65 = 0.8787878787878788\n",
            "U 66 = 0.48484848484848486\n",
            "U 67 = 0.5151515151515151\n",
            "U 68 = 0.6666666666666666\n",
            "U 69 = 0.42424242424242425\n",
            "U 70 = 0.21212121212121213\n",
            "U 71 = 0.15151515151515152\n",
            "U 72 = 0.8484848484848485\n",
            "U 73 = 0.3333333333333333\n",
            "U 74 = 0.7575757575757576\n",
            "U 75 = 0.8787878787878788\n",
            "U 76 = 0.48484848484848486\n",
            "U 77 = 0.5151515151515151\n",
            "U 78 = 0.6666666666666666\n",
            "U 79 = 0.42424242424242425\n",
            "U 80 = 0.21212121212121213\n",
            "U 81 = 0.15151515151515152\n",
            "U 82 = 0.8484848484848485\n",
            "U 83 = 0.3333333333333333\n",
            "U 84 = 0.7575757575757576\n",
            "U 85 = 0.8787878787878788\n",
            "U 86 = 0.48484848484848486\n",
            "U 87 = 0.5151515151515151\n",
            "U 88 = 0.6666666666666666\n",
            "U 89 = 0.42424242424242425\n",
            "U 90 = 0.21212121212121213\n",
            "U 91 = 0.15151515151515152\n",
            "U 92 = 0.8484848484848485\n",
            "U 93 = 0.3333333333333333\n",
            "U 94 = 0.7575757575757576\n",
            "U 95 = 0.8787878787878788\n",
            "U 96 = 0.48484848484848486\n",
            "U 97 = 0.5151515151515151\n",
            "U 98 = 0.6666666666666666\n",
            "U 99 = 0.42424242424242425\n",
            "U 100 = 0.21212121212121213\n"
          ],
          "name": "stdout"
        }
      ]
    },
    {
      "cell_type": "markdown",
      "metadata": {
        "id": "RlNYVdyGtCm5",
        "colab_type": "text"
      },
      "source": [
        "**b)** el tamaño del ciclo (si lo tiene)"
      ]
    },
    {
      "cell_type": "code",
      "metadata": {
        "id": "iAdmuHAAt-qb",
        "colab_type": "code",
        "colab": {}
      },
      "source": [
        ""
      ],
      "execution_count": 74,
      "outputs": []
    },
    {
      "cell_type": "markdown",
      "metadata": {
        "id": "3PRnEgWTt_Jg",
        "colab_type": "text"
      },
      "source": [
        "## 7.\n",
        "Si $ x_0=123 $ y\n",
        "$$ x_n = (17x_{n-1}+3) \\mod 16 $$\n",
        "\n",
        "**a)** encuentre $u_1,...,u_{100}$"
      ]
    },
    {
      "cell_type": "code",
      "metadata": {
        "id": "7WiQHBIKuVrO",
        "colab_type": "code",
        "colab": {
          "base_uri": "https://localhost:8080/",
          "height": 1000
        },
        "outputId": "fea55d43-8c0e-49e2-d7ff-a5f226d57966"
      },
      "source": [
        "def ejercicioN_7():\n",
        "  contador=0\n",
        "  vUn=[]\n",
        "  x0=123\n",
        "  print('Valores de Ui')\n",
        "  for x in range (101):\n",
        "    if x ==0:\n",
        "      xn=(((17*(x0))+3) % 16)\n",
        "      vUn.append(contador)\n",
        "    else:\n",
        "      xn=(((17*(x0))+3) % 16)\n",
        "      x0=xn\n",
        "      vUn.append(xn/16)\n",
        "    print('U', x, '=', vUn[x])\n",
        "ejercicioN_7()"
      ],
      "execution_count": null,
      "outputs": [
        {
          "output_type": "stream",
          "text": [
            "Valores de Ui\n",
            "U 0 = 0\n",
            "U 1 = 0.875\n",
            "U 2 = 0.0625\n",
            "U 3 = 0.25\n",
            "U 4 = 0.4375\n",
            "U 5 = 0.625\n",
            "U 6 = 0.8125\n",
            "U 7 = 0.0\n",
            "U 8 = 0.1875\n",
            "U 9 = 0.375\n",
            "U 10 = 0.5625\n",
            "U 11 = 0.75\n",
            "U 12 = 0.9375\n",
            "U 13 = 0.125\n",
            "U 14 = 0.3125\n",
            "U 15 = 0.5\n",
            "U 16 = 0.6875\n",
            "U 17 = 0.875\n",
            "U 18 = 0.0625\n",
            "U 19 = 0.25\n",
            "U 20 = 0.4375\n",
            "U 21 = 0.625\n",
            "U 22 = 0.8125\n",
            "U 23 = 0.0\n",
            "U 24 = 0.1875\n",
            "U 25 = 0.375\n",
            "U 26 = 0.5625\n",
            "U 27 = 0.75\n",
            "U 28 = 0.9375\n",
            "U 29 = 0.125\n",
            "U 30 = 0.3125\n",
            "U 31 = 0.5\n",
            "U 32 = 0.6875\n",
            "U 33 = 0.875\n",
            "U 34 = 0.0625\n",
            "U 35 = 0.25\n",
            "U 36 = 0.4375\n",
            "U 37 = 0.625\n",
            "U 38 = 0.8125\n",
            "U 39 = 0.0\n",
            "U 40 = 0.1875\n",
            "U 41 = 0.375\n",
            "U 42 = 0.5625\n",
            "U 43 = 0.75\n",
            "U 44 = 0.9375\n",
            "U 45 = 0.125\n",
            "U 46 = 0.3125\n",
            "U 47 = 0.5\n",
            "U 48 = 0.6875\n",
            "U 49 = 0.875\n",
            "U 50 = 0.0625\n",
            "U 51 = 0.25\n",
            "U 52 = 0.4375\n",
            "U 53 = 0.625\n",
            "U 54 = 0.8125\n",
            "U 55 = 0.0\n",
            "U 56 = 0.1875\n",
            "U 57 = 0.375\n",
            "U 58 = 0.5625\n",
            "U 59 = 0.75\n",
            "U 60 = 0.9375\n",
            "U 61 = 0.125\n",
            "U 62 = 0.3125\n",
            "U 63 = 0.5\n",
            "U 64 = 0.6875\n",
            "U 65 = 0.875\n",
            "U 66 = 0.0625\n",
            "U 67 = 0.25\n",
            "U 68 = 0.4375\n",
            "U 69 = 0.625\n",
            "U 70 = 0.8125\n",
            "U 71 = 0.0\n",
            "U 72 = 0.1875\n",
            "U 73 = 0.375\n",
            "U 74 = 0.5625\n",
            "U 75 = 0.75\n",
            "U 76 = 0.9375\n",
            "U 77 = 0.125\n",
            "U 78 = 0.3125\n",
            "U 79 = 0.5\n",
            "U 80 = 0.6875\n",
            "U 81 = 0.875\n",
            "U 82 = 0.0625\n",
            "U 83 = 0.25\n",
            "U 84 = 0.4375\n",
            "U 85 = 0.625\n",
            "U 86 = 0.8125\n",
            "U 87 = 0.0\n",
            "U 88 = 0.1875\n",
            "U 89 = 0.375\n",
            "U 90 = 0.5625\n",
            "U 91 = 0.75\n",
            "U 92 = 0.9375\n",
            "U 93 = 0.125\n",
            "U 94 = 0.3125\n",
            "U 95 = 0.5\n",
            "U 96 = 0.6875\n",
            "U 97 = 0.875\n",
            "U 98 = 0.0625\n",
            "U 99 = 0.25\n",
            "U 100 = 0.4375\n"
          ],
          "name": "stdout"
        }
      ]
    },
    {
      "cell_type": "markdown",
      "metadata": {
        "id": "aK_uyM2nuWGe",
        "colab_type": "text"
      },
      "source": [
        "**b)** el tamaño del ciclo (si lo tiene)"
      ]
    },
    {
      "cell_type": "code",
      "metadata": {
        "id": "aq2NrdxduW3O",
        "colab_type": "code",
        "colab": {
          "base_uri": "https://localhost:8080/",
          "height": 34
        },
        "outputId": "64e2d9d0-ca07-4d54-9991-bbc5783c6754"
      },
      "source": [
        "def ejercicioN_7():\n",
        "  contador=0\n",
        "  vUn=[]\n",
        "  x0=123\n",
        "  for x in range (101):\n",
        "    if x ==0:\n",
        "      xn=(((17*(x0))+3) % 16)\n",
        "      vUn.append(contador)\n",
        "    else:\n",
        "      xn=(((17*(x0))+3) % 16)\n",
        "      x0=xn\n",
        "      vUn.append(xn/16)\n",
        "  tam=vUn[2:len(vUn)].index(0.875)\n",
        "  print('El tamaño del ciclo es de: :',tam+2)\n",
        "ejercicioN_7()"
      ],
      "execution_count": 76,
      "outputs": [
        {
          "output_type": "stream",
          "text": [
            "El tamaño del ciclo es de: : 17\n"
          ],
          "name": "stdout"
        }
      ]
    },
    {
      "cell_type": "markdown",
      "metadata": {
        "id": "1KkIOtVzHL_w",
        "colab_type": "text"
      },
      "source": [
        "## 8.\n",
        "Dados los siguientes valores de la distribución de probabilidad discreta de la variable aleatoria $X$ de un dado de 12 lados: $X = {1,2,3,4,5,6,7,8,9,10,11,12}$, $p(X) = {0.06,0.05,0.05,0.04,0.02,0.02,0.05,0.07,0.2,0.25,0.1,0.09}$, ¿Qué valores retornaría el generador de variables aleatorias por el método de la inversión si los números aleatorios generados son: $U = {0.6996, 0.0318, 0.6344, 0.1708, 0.6865, 0.1573, 0.9454, 0.8211, 0.9102, 0.2579}$?"
      ]
    },
    {
      "cell_type": "code",
      "metadata": {
        "id": "bhEDWJ38rXGc",
        "colab_type": "code",
        "colab": {
          "base_uri": "https://localhost:8080/",
          "height": 85
        },
        "outputId": "4f179f69-473f-411e-e9f2-e0eab57c57b2"
      },
      "source": [
        "def ejercicioN_8(x,px):\n",
        "  contador=0\n",
        "  aux=0\n",
        "  j=0\n",
        "  xs=[]\n",
        "  xi=[]\n",
        "  u=[0.6996,0.0318,0.6344,0.1708,0.6865,0.1573,0.9454,0.8211,0.9102,0.2579]\n",
        "  for i in px:\n",
        "    xs.append(i+j)\n",
        "    j+=i\n",
        "  print(\"Suma de los px:\\n\", xs)\n",
        "  for i in u:\n",
        "    for h in xs:\n",
        "      if i <= h:\n",
        "        xi.append(x[contador])\n",
        "        break\n",
        "      contador+=1\n",
        "    contador=0\n",
        "  print(\"Valores aleatorios:\\n\", xi)\n",
        "x=[1,2,3,4,5,6,7,8,9,10,11,12]\n",
        "px=[0.06,0.05,0.05,0.04,0.02,0.02,0.05,0.07,0.2,0.25,0.1,0.09]\n",
        "ejercicioN_8(x,px)"
      ],
      "execution_count": 44,
      "outputs": [
        {
          "output_type": "stream",
          "text": [
            "Suma de los px:\n",
            " [0.06, 0.11, 0.16, 0.2, 0.22, 0.24, 0.29, 0.36, 0.56, 0.81, 0.91, 1.0]\n",
            "Valores aleatorios:\n",
            " [10, 1, 10, 4, 10, 3, 12, 11, 12, 7]\n"
          ],
          "name": "stdout"
        }
      ]
    },
    {
      "cell_type": "markdown",
      "metadata": {
        "id": "Y4Ct4DYjrwZh",
        "colab_type": "text"
      },
      "source": [
        "## 9.\n",
        "Implememente la técnica de aceptación y rechazo para la generación de variables aleatorias.\n",
        "\n",
        "**a)** Use la técnica de aceptación y rechazo implementada para la generación de valores aleatorios de la distribución de probabilidad discreta de la suma de la cara de dos dados.<br>\n",
        "**b)** Compare con el método de la transformada inversa generando 50000 valores aleatorios con la misma distribución de probabilidad discreta midiendo el tiempo que toma por cada método generar la misma cantidad de valores aleatorios."
      ]
    },
    {
      "cell_type": "code",
      "metadata": {
        "id": "IUrE7F7T28Ra",
        "colab_type": "code",
        "colab": {}
      },
      "source": [
        ""
      ],
      "execution_count": 37,
      "outputs": []
    },
    {
      "cell_type": "markdown",
      "metadata": {
        "id": "s_d8nqQP6Y7y",
        "colab_type": "text"
      },
      "source": [
        "## 10.\n",
        "Implemente el ejemplo de simulación Ad Hoc de clientes atendidos por un cajero de un banco del Taller 0 generando las variables aleatorias discretas tanto del número de minutos entre las llegadas de un cliente y otro al banco ($X$), así como del numero de minutos que le toma al cajero atender un cliente ($Y$). <br>\n",
        "$X$ es una distribución de Poisson con $\\lambda = 5$<br>\n",
        "$Y$ es una distribución Binomial con $n=20$ y $p=0.4$.<br>\n",
        "Calcular las respectivas medidas de desempeño."
      ]
    },
    {
      "cell_type": "code",
      "metadata": {
        "id": "zUbhD7zu-kV9",
        "colab_type": "code",
        "colab": {}
      },
      "source": [
        ""
      ],
      "execution_count": null,
      "outputs": []
    }
  ]
}